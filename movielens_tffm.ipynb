{
 "cells": [
  {
   "cell_type": "code",
   "execution_count": 1,
   "metadata": {
    "ExecuteTime": {
     "end_time": "2021-01-22T15:08:46.786993Z",
     "start_time": "2021-01-22T15:08:43.134660Z"
    }
   },
   "outputs": [
    {
     "name": "stderr",
     "output_type": "stream",
     "text": [
      "/Users/YuLong/miniconda3/envs/py_37_ds/lib/python3.7/site-packages/tensorflow/python/framework/dtypes.py:516: FutureWarning: Passing (type, 1) or '1type' as a synonym of type is deprecated; in a future version of numpy, it will be understood as (type, (1,)) / '(1,)type'.\n",
      "  _np_qint8 = np.dtype([(\"qint8\", np.int8, 1)])\n",
      "/Users/YuLong/miniconda3/envs/py_37_ds/lib/python3.7/site-packages/tensorflow/python/framework/dtypes.py:517: FutureWarning: Passing (type, 1) or '1type' as a synonym of type is deprecated; in a future version of numpy, it will be understood as (type, (1,)) / '(1,)type'.\n",
      "  _np_quint8 = np.dtype([(\"quint8\", np.uint8, 1)])\n",
      "/Users/YuLong/miniconda3/envs/py_37_ds/lib/python3.7/site-packages/tensorflow/python/framework/dtypes.py:518: FutureWarning: Passing (type, 1) or '1type' as a synonym of type is deprecated; in a future version of numpy, it will be understood as (type, (1,)) / '(1,)type'.\n",
      "  _np_qint16 = np.dtype([(\"qint16\", np.int16, 1)])\n",
      "/Users/YuLong/miniconda3/envs/py_37_ds/lib/python3.7/site-packages/tensorflow/python/framework/dtypes.py:519: FutureWarning: Passing (type, 1) or '1type' as a synonym of type is deprecated; in a future version of numpy, it will be understood as (type, (1,)) / '(1,)type'.\n",
      "  _np_quint16 = np.dtype([(\"quint16\", np.uint16, 1)])\n",
      "/Users/YuLong/miniconda3/envs/py_37_ds/lib/python3.7/site-packages/tensorflow/python/framework/dtypes.py:520: FutureWarning: Passing (type, 1) or '1type' as a synonym of type is deprecated; in a future version of numpy, it will be understood as (type, (1,)) / '(1,)type'.\n",
      "  _np_qint32 = np.dtype([(\"qint32\", np.int32, 1)])\n",
      "/Users/YuLong/miniconda3/envs/py_37_ds/lib/python3.7/site-packages/tensorflow/python/framework/dtypes.py:525: FutureWarning: Passing (type, 1) or '1type' as a synonym of type is deprecated; in a future version of numpy, it will be understood as (type, (1,)) / '(1,)type'.\n",
      "  np_resource = np.dtype([(\"resource\", np.ubyte, 1)])\n",
      "/Users/YuLong/miniconda3/envs/py_37_ds/lib/python3.7/site-packages/tensorboard/compat/tensorflow_stub/dtypes.py:541: FutureWarning: Passing (type, 1) or '1type' as a synonym of type is deprecated; in a future version of numpy, it will be understood as (type, (1,)) / '(1,)type'.\n",
      "  _np_qint8 = np.dtype([(\"qint8\", np.int8, 1)])\n",
      "/Users/YuLong/miniconda3/envs/py_37_ds/lib/python3.7/site-packages/tensorboard/compat/tensorflow_stub/dtypes.py:542: FutureWarning: Passing (type, 1) or '1type' as a synonym of type is deprecated; in a future version of numpy, it will be understood as (type, (1,)) / '(1,)type'.\n",
      "  _np_quint8 = np.dtype([(\"quint8\", np.uint8, 1)])\n",
      "/Users/YuLong/miniconda3/envs/py_37_ds/lib/python3.7/site-packages/tensorboard/compat/tensorflow_stub/dtypes.py:543: FutureWarning: Passing (type, 1) or '1type' as a synonym of type is deprecated; in a future version of numpy, it will be understood as (type, (1,)) / '(1,)type'.\n",
      "  _np_qint16 = np.dtype([(\"qint16\", np.int16, 1)])\n",
      "/Users/YuLong/miniconda3/envs/py_37_ds/lib/python3.7/site-packages/tensorboard/compat/tensorflow_stub/dtypes.py:544: FutureWarning: Passing (type, 1) or '1type' as a synonym of type is deprecated; in a future version of numpy, it will be understood as (type, (1,)) / '(1,)type'.\n",
      "  _np_quint16 = np.dtype([(\"quint16\", np.uint16, 1)])\n",
      "/Users/YuLong/miniconda3/envs/py_37_ds/lib/python3.7/site-packages/tensorboard/compat/tensorflow_stub/dtypes.py:545: FutureWarning: Passing (type, 1) or '1type' as a synonym of type is deprecated; in a future version of numpy, it will be understood as (type, (1,)) / '(1,)type'.\n",
      "  _np_qint32 = np.dtype([(\"qint32\", np.int32, 1)])\n",
      "/Users/YuLong/miniconda3/envs/py_37_ds/lib/python3.7/site-packages/tensorboard/compat/tensorflow_stub/dtypes.py:550: FutureWarning: Passing (type, 1) or '1type' as a synonym of type is deprecated; in a future version of numpy, it will be understood as (type, (1,)) / '(1,)type'.\n",
      "  np_resource = np.dtype([(\"resource\", np.ubyte, 1)])\n"
     ]
    },
    {
     "data": {
      "text/plain": [
       "['ua.base', 'ua.test']"
      ]
     },
     "execution_count": 1,
     "metadata": {},
     "output_type": "execute_result"
    }
   ],
   "source": [
    "import numpy as np\n",
    "import pandas as pd\n",
    "import tensorflow as tf\n",
    "import time\n",
    "from tqdm import tqdm\n",
    "from sklearn.feature_extraction import DictVectorizer\n",
    "\n",
    "import os\n",
    "import sys\n",
    "\n",
    "ROOT = os.path.expanduser(os.environ['RECSYS_IM_HOME'])\n",
    "sys.path.append(ROOT)\n",
    "os.chdir(ROOT)\n",
    "\n",
    "from data_loader import load_movielens\n",
    "from data_profiler import summary_x\n",
    "\n",
    "SEED = 42\n",
    "DATASET_PATH = './dataset/ml-100k'\n",
    "os.listdir(DATASET_PATH)"
   ]
  },
  {
   "cell_type": "markdown",
   "metadata": {},
   "source": [
    "# Data"
   ]
  },
  {
   "cell_type": "code",
   "execution_count": 2,
   "metadata": {
    "ExecuteTime": {
     "end_time": "2021-01-22T15:08:47.174901Z",
     "start_time": "2021-01-22T15:08:46.788694Z"
    }
   },
   "outputs": [
    {
     "name": "stdout",
     "output_type": "stream",
     "text": [
      "Data Shape :  (90570, 2623)\n",
      "Non Zero Ratio :  0.0007624857033930611\n"
     ]
    },
    {
     "data": {
      "text/plain": [
       "'Rating distribution : '"
      ]
     },
     "metadata": {},
     "output_type": "display_data"
    },
    {
     "data": {
      "text/plain": [
       "4.0    30858\n",
       "3.0    24721\n",
       "5.0    19048\n",
       "2.0    10375\n",
       "1.0     5568\n",
       "dtype: int64"
      ]
     },
     "metadata": {},
     "output_type": "display_data"
    }
   ],
   "source": [
    "train_data, y_train, train_users, train_items = load_movielens(filename=\"ua.base\")\n",
    "test_data, y_test, test_users, test_items = load_movielens(filename=\"ua.test\")\n",
    "v = DictVectorizer()\n",
    "\n",
    "# sparse matrix\n",
    "X_train = v.fit_transform(train_data)\n",
    "X_test = v.transform(test_data)\n",
    "\n",
    "# profling\n",
    "summary_x(X_train)\n",
    "\n",
    "display('Rating distribution : ',\n",
    "    pd.Series(y_train).value_counts()\n",
    ")\n",
    "\n",
    "# y_train.shape += (1,)"
   ]
  },
  {
   "cell_type": "markdown",
   "metadata": {
    "ExecuteTime": {
     "end_time": "2021-01-07T02:36:38.336877Z",
     "start_time": "2021-01-07T02:36:37.977036Z"
    }
   },
   "source": [
    "# Benchmark\n",
    "\n",
    "1. Note that SVR and RandomForest is very very slow\n",
    "2. if you wanna use `mean_absolute_percentage_error`, you need to install nightly-build version scikit-learn.\n",
    "   I use `1.0.dev0`"
   ]
  },
  {
   "cell_type": "code",
   "execution_count": 3,
   "metadata": {
    "ExecuteTime": {
     "end_time": "2021-01-22T15:08:47.331287Z",
     "start_time": "2021-01-22T15:08:47.177722Z"
    }
   },
   "outputs": [
    {
     "name": "stderr",
     "output_type": "stream",
     "text": [
      "/Users/YuLong/miniconda3/envs/py_37_ds/lib/python3.7/site-packages/lightgbm/__init__.py:48: UserWarning: Starting from version 2.2.1, the library file in distribution wheels for macOS is built by the Apple Clang (Xcode_8.3.3) compiler.\n",
      "This means that in case of installing LightGBM from PyPI via the ``pip install lightgbm`` command, you don't need to install the gcc compiler anymore.\n",
      "Instead of that, you need to install the OpenMP library, which is required for running LightGBM on the system with the Apple Clang compiler.\n",
      "You can install the OpenMP library by the following command: ``brew install libomp``.\n",
      "  \"You can install the OpenMP library by the following command: ``brew install libomp``.\", UserWarning)\n"
     ]
    }
   ],
   "source": [
    "from sklearn.linear_model import LinearRegression\n",
    "# from sklearn.kernel_ridge import KernelRidge\n",
    "from sklearn.svm import SVR\n",
    "from sklearn.ensemble import RandomForestRegressor\n",
    "from lightgbm import LGBMRegressor\n",
    "from sklearn.metrics import mean_absolute_percentage_error\n",
    "from sklearn.metrics import mean_squared_error\n",
    "from time import time"
   ]
  },
  {
   "cell_type": "code",
   "execution_count": 4,
   "metadata": {
    "ExecuteTime": {
     "end_time": "2021-01-22T15:08:47.335717Z",
     "start_time": "2021-01-22T15:08:47.333439Z"
    }
   },
   "outputs": [],
   "source": [
    "# MAPE example\n",
    "# check the mape section from \n",
    "# https://scikit-learn.org/dev/modules/model_evaluation.html#mean-absolute-percentage-error\n",
    "# mean_absolute_percentage_error([1, 10], [0.9, 15])"
   ]
  },
  {
   "cell_type": "code",
   "execution_count": 5,
   "metadata": {
    "ExecuteTime": {
     "end_time": "2021-01-22T15:09:24.900848Z",
     "start_time": "2021-01-22T15:08:47.337850Z"
    }
   },
   "outputs": [
    {
     "name": "stdout",
     "output_type": "stream",
     "text": [
      "model: LinearRegression(n_jobs=-1)\n",
      "mse: 0.9280879318215962\n",
      "mape: 0.3010215345831072\n",
      "\n"
     ]
    },
    {
     "name": "stderr",
     "output_type": "stream",
     "text": [
      "/Users/YuLong/miniconda3/envs/py_37_ds/lib/python3.7/site-packages/sklearn/svm/_base.py:258: ConvergenceWarning: Solver terminated early (max_iter=10000).  Consider pre-processing your data with StandardScaler or MinMaxScaler.\n",
      "  % self.max_iter, ConvergenceWarning)\n"
     ]
    },
    {
     "name": "stdout",
     "output_type": "stream",
     "text": [
      "model: SVR(degree=2, kernel='poly', max_iter=10000)\n",
      "mse: 0.9616074068530213\n",
      "mape: 0.31408018899874457\n",
      "\n",
      "model: LGBMRegressor(n_estimators=200, random_state=42)\n",
      "mse: 1.0151626328338708\n",
      "mape: 0.33041398515396936\n",
      "\n"
     ]
    }
   ],
   "source": [
    "benchmark_dict = {'model' : [],\n",
    "                  'mse' : [],\n",
    "                  'mape': [],\n",
    "                  'training time(s)' : [],\n",
    "                  'inference time(ms)' : []}\n",
    "N_INFERENCE = 50\n",
    "for model in [\n",
    "                LinearRegression(n_jobs=-1),\n",
    "#                 KernelRidge(kernel='poly',degree=2), # too slow\n",
    "                SVR(kernel='poly', degree=2, max_iter= 10000),\n",
    "#                 RandomForestRegressor(n_jobs=-1, n_estimators=200, random_state=SEED), # too slow\n",
    "                LGBMRegressor(n_estimators=200, random_state=SEED, n_jobs=-1)\n",
    "            ]:\n",
    "    # training parts\n",
    "    train_start = time()\n",
    "    model.fit(X_train[:, :], y_train[:])\n",
    "    # profiling\n",
    "    training_time = time() - train_start\n",
    "    model_name = type(model).__name__\n",
    "    predictions = model.predict(X_test)\n",
    "    mse = mean_squared_error(y_test, predictions)\n",
    "    mape = mean_absolute_percentage_error(y_test, predictions)\n",
    "    # log the performance\n",
    "    benchmark_dict['model'].append(model_name)\n",
    "    benchmark_dict['mse'].append(mse)\n",
    "    benchmark_dict['mape'].append(mape)\n",
    "    benchmark_dict['training time(s)'].append(training_time)\n",
    "    \n",
    "\n",
    "    # inference part\n",
    "    inference_time_list = []\n",
    "    for _ in range(N_INFERENCE):\n",
    "        inference_start = time()\n",
    "        model.predict(X_test[0, :].reshape(1, -1))\n",
    "        inference_time = (time() - inference_start) * 1000\n",
    "        inference_time_list.append(inference_time_list)\n",
    "    benchmark_dict['inference time(ms)'].append(np.mean(inference_time))\n",
    "    \n",
    "    print('model: {}'.format(model.__str__()))\n",
    "    print('mse: {}'.format(mse))\n",
    "    print('mape: {}'.format(mape))\n",
    "    print()"
   ]
  },
  {
   "cell_type": "code",
   "execution_count": 6,
   "metadata": {
    "ExecuteTime": {
     "end_time": "2021-01-22T15:13:35.423300Z",
     "start_time": "2021-01-22T15:09:24.903042Z"
    }
   },
   "outputs": [
    {
     "name": "stdout",
     "output_type": "stream",
     "text": [
      "WARNING:tensorflow:From /Users/YuLong/Desktop/Working_Area/recsys_im/tffm/tffm/core.py:96: The name tf.train.AdamOptimizer is deprecated. Please use tf.compat.v1.train.AdamOptimizer instead.\n",
      "\n",
      "WARNING:tensorflow:From /Users/YuLong/Desktop/Working_Area/recsys_im/tffm/tffm/core.py:122: The name tf.random_uniform is deprecated. Please use tf.random.uniform instead.\n",
      "\n",
      "WARNING:tensorflow:From /Users/YuLong/Desktop/Working_Area/recsys_im/tffm/tffm/core.py:123: The name tf.verify_tensor_all_finite is deprecated. Please use tf.compat.v1.verify_tensor_all_finite instead.\n",
      "\n",
      "WARNING:tensorflow:From /Users/YuLong/Desktop/Working_Area/recsys_im/tffm/tffm/core.py:127: The name tf.summary.scalar is deprecated. Please use tf.compat.v1.summary.scalar instead.\n",
      "\n",
      "WARNING:tensorflow:From /Users/YuLong/Desktop/Working_Area/recsys_im/tffm/tffm/core.py:134: The name tf.placeholder is deprecated. Please use tf.compat.v1.placeholder instead.\n",
      "\n",
      "WARNING:tensorflow:From /Users/YuLong/Desktop/Working_Area/recsys_im/tffm/tffm/utils.py:145: The name tf.sparse_tensor_dense_matmul is deprecated. Please use tf.sparse.sparse_dense_matmul instead.\n",
      "\n",
      "WARNING:tensorflow:Variable += will be deprecated. Use variable.assign_add if you want assignment to the variable value or 'x = x + y' if you want a new python Tensor object.\n",
      "WARNING:tensorflow:From /Users/YuLong/miniconda3/envs/py_37_ds/lib/python3.7/site-packages/tensorflow/python/ops/math_grad.py:1205: add_dispatch_support.<locals>.wrapper (from tensorflow.python.ops.array_ops) is deprecated and will be removed in a future version.\n",
      "Instructions for updating:\n",
      "Use tf.where in 2.0, which has the same broadcast rule as np.where\n",
      "WARNING:tensorflow:From /Users/YuLong/Desktop/Working_Area/recsys_im/tffm/tffm/core.py:229: The name tf.global_variables_initializer is deprecated. Please use tf.compat.v1.global_variables_initializer instead.\n",
      "\n",
      "WARNING:tensorflow:From /Users/YuLong/Desktop/Working_Area/recsys_im/tffm/tffm/core.py:230: The name tf.summary.merge_all is deprecated. Please use tf.compat.v1.summary.merge_all instead.\n",
      "\n",
      "WARNING:tensorflow:From /Users/YuLong/Desktop/Working_Area/recsys_im/tffm/tffm/core.py:231: The name tf.train.Saver is deprecated. Please use tf.compat.v1.train.Saver instead.\n",
      "\n"
     ]
    },
    {
     "name": "stderr",
     "output_type": "stream",
     "text": [
      "100%|██████████| 50/50 [01:17<00:00,  1.54s/epoch]\n"
     ]
    },
    {
     "name": "stdout",
     "output_type": "stream",
     "text": [
      "[order=2] mse: 0.8722792964229191\n",
      "[order=2] mape: 0.2834116466579904\n"
     ]
    },
    {
     "name": "stderr",
     "output_type": "stream",
     "text": [
      "/Users/YuLong/miniconda3/envs/py_37_ds/lib/python3.7/site-packages/numpy/core/_asarray.py:136: VisibleDeprecationWarning: Creating an ndarray from ragged nested sequences (which is a list-or-tuple of lists-or-tuples-or ndarrays with different lengths or shapes) is deprecated. If you meant to do this, you must specify 'dtype=object' when creating the ndarray\n",
      "  return array(a, dtype, copy=False, order=order, subok=True)\n",
      "100%|██████████| 50/50 [02:51<00:00,  3.42s/epoch]\n"
     ]
    },
    {
     "name": "stdout",
     "output_type": "stream",
     "text": [
      "[order=3] mse: 0.8722792964229191\n",
      "[order=3] mape: 0.2834116466579904\n"
     ]
    }
   ],
   "source": [
    "from tffm.tffm import TFFMRegressor\n",
    "\n",
    "for order in [2, 3]:\n",
    "    model = TFFMRegressor(\n",
    "        order=order, \n",
    "        rank=100, \n",
    "        optimizer=tf.train.AdamOptimizer(learning_rate=0.001), \n",
    "        n_epochs=50, \n",
    "        batch_size=1024,\n",
    "        init_std=0.001,\n",
    "        reg=0.01,\n",
    "        input_type='sparse',\n",
    "        seed=SEED\n",
    "    )\n",
    "    # training part\n",
    "    # profiling\n",
    "    start = time()\n",
    "    # shape X : (n_data, n_features) y : (n_data)\n",
    "    model.fit(X_train[:, :], y_train[:], show_progress=True)\n",
    "    training_time = time() - start\n",
    "    predictions = model.predict(X_test)\n",
    "    mse = mean_squared_error(y_test, predictions)\n",
    "    mape = mean_absolute_percentage_error(y_test, predictions)\n",
    "    model_name = type(model).__name__\n",
    "    # log the performance\n",
    "    benchmark_dict['model'].append(f'{model_name}_order_{order}_sparse')\n",
    "    benchmark_dict['mse'].append(mse)\n",
    "    benchmark_dict['mape'].append(mape)\n",
    "    benchmark_dict['training time(s)'].append(training_time)\n",
    "    # inference part\n",
    "    inference_time_list = []\n",
    "    for _ in range(N_INFERENCE):\n",
    "        inference_start = time()\n",
    "        model.predict(X_test[0, :])\n",
    "        inference_time = (time() - inference_start) * 1000\n",
    "        inference_time_list.append(inference_time_list)\n",
    "    benchmark_dict['inference time(ms)'].append(np.mean(inference_time))\n",
    "    \n",
    "    print('[order={}] mse: {}'.format(order, mse))\n",
    "    print('[order={}] mape: {}'.format(order, mape))\n",
    "    # this will close tf.Session and free resources\n",
    "    model.destroy()  "
   ]
  },
  {
   "cell_type": "code",
   "execution_count": 7,
   "metadata": {
    "ExecuteTime": {
     "end_time": "2021-01-22T15:13:35.441577Z",
     "start_time": "2021-01-22T15:13:35.425316Z"
    }
   },
   "outputs": [
    {
     "data": {
      "text/html": [
       "<div>\n",
       "<style scoped>\n",
       "    .dataframe tbody tr th:only-of-type {\n",
       "        vertical-align: middle;\n",
       "    }\n",
       "\n",
       "    .dataframe tbody tr th {\n",
       "        vertical-align: top;\n",
       "    }\n",
       "\n",
       "    .dataframe thead th {\n",
       "        text-align: right;\n",
       "    }\n",
       "</style>\n",
       "<table border=\"1\" class=\"dataframe\">\n",
       "  <thead>\n",
       "    <tr style=\"text-align: right;\">\n",
       "      <th></th>\n",
       "      <th>model</th>\n",
       "      <th>mse</th>\n",
       "      <th>mape</th>\n",
       "      <th>training time(s)</th>\n",
       "      <th>inference time(ms)</th>\n",
       "    </tr>\n",
       "  </thead>\n",
       "  <tbody>\n",
       "    <tr>\n",
       "      <th>0</th>\n",
       "      <td>LinearRegression</td>\n",
       "      <td>0.928088</td>\n",
       "      <td>0.301022</td>\n",
       "      <td>0.180468</td>\n",
       "      <td>0.135899</td>\n",
       "    </tr>\n",
       "    <tr>\n",
       "      <th>1</th>\n",
       "      <td>SVR</td>\n",
       "      <td>0.961607</td>\n",
       "      <td>0.314080</td>\n",
       "      <td>34.353748</td>\n",
       "      <td>2.943039</td>\n",
       "    </tr>\n",
       "    <tr>\n",
       "      <th>2</th>\n",
       "      <td>LGBMRegressor</td>\n",
       "      <td>1.015163</td>\n",
       "      <td>0.330414</td>\n",
       "      <td>0.969019</td>\n",
       "      <td>0.689983</td>\n",
       "    </tr>\n",
       "    <tr>\n",
       "      <th>3</th>\n",
       "      <td>TFFMRegressor_order_2_sparse</td>\n",
       "      <td>0.872279</td>\n",
       "      <td>0.283412</td>\n",
       "      <td>77.672247</td>\n",
       "      <td>2.915859</td>\n",
       "    </tr>\n",
       "    <tr>\n",
       "      <th>4</th>\n",
       "      <td>TFFMRegressor_order_3_sparse</td>\n",
       "      <td>0.872279</td>\n",
       "      <td>0.283412</td>\n",
       "      <td>171.996064</td>\n",
       "      <td>4.297972</td>\n",
       "    </tr>\n",
       "  </tbody>\n",
       "</table>\n",
       "</div>"
      ],
      "text/plain": [
       "                          model       mse      mape  training time(s)  \\\n",
       "0              LinearRegression  0.928088  0.301022          0.180468   \n",
       "1                           SVR  0.961607  0.314080         34.353748   \n",
       "2                 LGBMRegressor  1.015163  0.330414          0.969019   \n",
       "3  TFFMRegressor_order_2_sparse  0.872279  0.283412         77.672247   \n",
       "4  TFFMRegressor_order_3_sparse  0.872279  0.283412        171.996064   \n",
       "\n",
       "   inference time(ms)  \n",
       "0            0.135899  \n",
       "1            2.943039  \n",
       "2            0.689983  \n",
       "3            2.915859  \n",
       "4            4.297972  "
      ]
     },
     "execution_count": 7,
     "metadata": {},
     "output_type": "execute_result"
    }
   ],
   "source": [
    "pd.DataFrame(benchmark_dict)"
   ]
  }
 ],
 "metadata": {
  "kernelspec": {
   "display_name": "Python 3",
   "language": "python",
   "name": "python3"
  },
  "language_info": {
   "codemirror_mode": {
    "name": "ipython",
    "version": 3
   },
   "file_extension": ".py",
   "mimetype": "text/x-python",
   "name": "python",
   "nbconvert_exporter": "python",
   "pygments_lexer": "ipython3",
   "version": "3.7.6"
  },
  "toc": {
   "base_numbering": 1,
   "nav_menu": {},
   "number_sections": true,
   "sideBar": true,
   "skip_h1_title": false,
   "title_cell": "Table of Contents",
   "title_sidebar": "Contents",
   "toc_cell": false,
   "toc_position": {},
   "toc_section_display": true,
   "toc_window_display": false
  }
 },
 "nbformat": 4,
 "nbformat_minor": 4
}
